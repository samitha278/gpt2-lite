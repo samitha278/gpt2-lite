{
  "nbformat": 4,
  "nbformat_minor": 0,
  "metadata": {
    "colab": {
      "provenance": [],
      "gpuType": "T4",
      "authorship_tag": "ABX9TyPEdghQQSDSRRa3Dw2D1Z1C",
      "include_colab_link": true
    },
    "kernelspec": {
      "name": "python3",
      "display_name": "Python 3"
    },
    "language_info": {
      "name": "python"
    },
    "accelerator": "GPU"
  },
  "cells": [
    {
      "cell_type": "markdown",
      "metadata": {
        "id": "view-in-github",
        "colab_type": "text"
      },
      "source": [
        "<a href=\"https://colab.research.google.com/github/samitha278/gpt2-lite/blob/main/complete_gpt2.ipynb\" target=\"_parent\"><img src=\"https://colab.research.google.com/assets/colab-badge.svg\" alt=\"Open In Colab\"/></a>"
      ]
    },
    {
      "cell_type": "code",
      "execution_count": 11,
      "metadata": {
        "id": "s-k5lDK9R2DF"
      },
      "outputs": [],
      "source": [
        "import torch\n",
        "import torch.nn as nn\n",
        "import torch.nn.functional as F\n",
        "\n",
        "import gdown\n",
        "import matplotlib.pyplot as plt\n",
        "\n",
        "import tiktoken\n",
        "\n",
        "from dataclasses import dataclass\n",
        "\n",
        "\n",
        "device = 'cuda' if torch.cuda.is_available() else 'cpu'"
      ]
    },
    {
      "cell_type": "code",
      "source": [
        "# Data file doenload\n",
        "\n",
        "file_id = \"1ia6z4itw7WJWpnoTohURX6Lm-AnZmVZz\"\n",
        "url = f\"https://drive.google.com/uc?id={file_id}\"\n",
        "\n",
        "output = \"input.txt\"\n",
        "gdown.download(url, output, quiet=False)"
      ],
      "metadata": {
        "colab": {
          "base_uri": "https://localhost:8080/",
          "height": 105
        },
        "id": "RAs1hsQlVHxZ",
        "outputId": "b42fb9fa-025b-4ed9-eb5d-86c20a5bc1f1"
      },
      "execution_count": 2,
      "outputs": [
        {
          "output_type": "stream",
          "name": "stderr",
          "text": [
            "Downloading...\n",
            "From: https://drive.google.com/uc?id=1ia6z4itw7WJWpnoTohURX6Lm-AnZmVZz\n",
            "To: /content/input.txt\n",
            "100%|██████████| 1.12M/1.12M [00:00<00:00, 11.4MB/s]\n"
          ]
        },
        {
          "output_type": "execute_result",
          "data": {
            "text/plain": [
              "'input.txt'"
            ],
            "application/vnd.google.colaboratory.intrinsic+json": {
              "type": "string"
            }
          },
          "metadata": {},
          "execution_count": 2
        }
      ]
    },
    {
      "cell_type": "markdown",
      "source": [
        "# GPT-2 Model"
      ],
      "metadata": {
        "id": "N2Og5-0LTdM5"
      }
    },
    {
      "cell_type": "code",
      "source": [
        "@dataclass\n",
        "class GPT2Config:\n",
        "    block_size : int = 1024\n",
        "    vocab_size : int = 50257\n",
        "    n_layer : int = 12\n",
        "    n_head : int = 12\n",
        "    n_embd : int = 768"
      ],
      "metadata": {
        "id": "ZmTrswygUKfi"
      },
      "execution_count": 3,
      "outputs": []
    },
    {
      "cell_type": "code",
      "source": [
        "class GPT2(nn.Module):\n",
        "\n",
        "    def __init__(self,config):\n",
        "        super().__init__()\n",
        "\n",
        "        self.config = config\n",
        "\n",
        "        self.transformer = nn.ModuleDict(dict(\n",
        "            wte = nn.Embedding(config.vocab_size,config.n_embd),\n",
        "            wpe = nn.Embedding(config.block_size,config.n_embd),\n",
        "\n",
        "            h = nn.ModuleList([Block(config) for i in range(config.n_layer)]),\n",
        "\n",
        "            ln_f = nn.LayerNorm(config.n_embd),\n",
        "\n",
        "        ))\n",
        "\n",
        "        self.lm_head = nn.Linear(config.n_embd,config.vocab_size, bias=False)\n",
        "\n",
        "\n",
        "        #weight sharing\n",
        "        self.transformer.wte.weight = self.lm_head.weight\n",
        "        #Save ~38M parameters\n",
        "\n",
        "        self.apply(self._init_weights)\n",
        "\n",
        "\n",
        "\n",
        "    def _init_weights(self,module):\n",
        "\n",
        "        if isinstance(module,nn.Linear):\n",
        "            std = 0.02\n",
        "            if hasattr(module,'FLAG'):\n",
        "                std *= (2*self.config.n_layer) ** -0.5           #scaledown std\n",
        "            torch.nn.init.normal_(module.weight,mean=0.0,std=std)\n",
        "            if module.bias is not None:\n",
        "                torch.nn.init.zeros_(module.bias)\n",
        "        elif isinstance(module,nn.Embedding):\n",
        "            torch.nn.init.normal_(module.weight,mean=0.0,std=0.02)\n",
        "\n",
        "\n",
        "\n",
        "    def forward(self,x,targets= None):\n",
        "\n",
        "        B,T = x.shape\n",
        "        assert T<= self.config.block_size   # positional embd table max size = block_size\n",
        "        tx = self.transformer.wte(x)       #token embedding\n",
        "        px = self.transformer.wpe(torch.arange(0,T,self.config.block_size,device=device)) #positional embedding\n",
        "\n",
        "        x = tx+px     # add both\n",
        "\n",
        "        for block in self.transformer.h:\n",
        "          x = block(x)\n",
        "\n",
        "        x = self.transformer.ln_f(x)\n",
        "\n",
        "        logits = self.lm_head(x)\n",
        "\n",
        "        if targets is None:\n",
        "            return logits\n",
        "        else:\n",
        "            loss = F.cross_entropy(logits.view(B*T,-1) ,targets.view(-1))\n",
        "            return logits,loss\n",
        "\n",
        "\n",
        "\n",
        "    @classmethod\n",
        "    def from_pretrained(cls, model_type='gpt2'):\n",
        "        from transformers import GPT2LMHeadModel\n",
        "        assert model_type == 'gpt2'\n",
        "\n",
        "        config_args = dict(n_layer=12, n_head=12, n_embd=768, vocab_size=50257, block_size=1024)\n",
        "        config = GPT2Config(**config_args)\n",
        "        model = GPT2(config)\n",
        "\n",
        "        sd = model.state_dict()\n",
        "        sd_keys = [k for k in sd.keys() if not k.endswith('.attn.bias')]\n",
        "\n",
        "        model_hf = GPT2LMHeadModel.from_pretrained(model_type)\n",
        "        sd_hf = model_hf.state_dict()\n",
        "        sd_keys_hf = [k for k in sd_hf.keys() if not k.endswith(('.attn.masked_bias', '.attn.bias'))]\n",
        "\n",
        "        transposed = ['attn.c_attn.weight', 'attn.c_proj.weight', 'mlp.c_fc.weight', 'mlp.c_proj.weight']\n",
        "        assert len(sd_keys_hf) == len(sd_keys)\n",
        "\n",
        "        for k in sd_keys_hf:\n",
        "            if any(k.endswith(w) for w in transposed):\n",
        "                assert sd_hf[k].shape[::-1] == sd[k].shape\n",
        "                with torch.no_grad():\n",
        "                    sd[k].copy_(sd_hf[k].t())\n",
        "            else:\n",
        "                assert sd_hf[k].shape == sd[k].shape\n",
        "                with torch.no_grad():\n",
        "                    sd[k].copy_(sd_hf[k])\n",
        "\n",
        "        return model\n",
        "\n",
        "\n",
        "# ----------------------------------------------------------------------------------\n",
        "\n",
        "\n",
        "\n",
        "class Block(nn.Module):\n",
        "\n",
        "    def __init__(self,config):\n",
        "        super().__init__()\n",
        "        self.config = config\n",
        "\n",
        "        self.ln_1 = nn.LayerNorm(config.n_embd)\n",
        "        self.attn = SelfAttention(config)\n",
        "        self.ln_2 = nn.LayerNorm(config.n_embd)\n",
        "        self.mlp = MLP(config)\n",
        "\n",
        "\n",
        "    def forward(self,x):\n",
        "\n",
        "        x = self.attn(self.ln_1(x)) + x\n",
        "        x = self.mlp(self.ln_2(x)) + x\n",
        "\n",
        "        return x\n",
        "\n",
        "\n",
        "\n",
        "# ----------------------------------------------------------------------------------\n",
        "\n",
        "\n",
        "class MLP(nn.Module):\n",
        "\n",
        "    def __init__(self,config):\n",
        "        super().__init__()\n",
        "        self.config = config\n",
        "\n",
        "        self.c_fc = nn.Linear(config.n_embd,4*config.n_embd)\n",
        "        self.gelu = nn.GELU()\n",
        "        self.c_proj = nn.Linear(4*config.n_embd,config.n_embd)\n",
        "        self.c_proj.FLAG = 1\n",
        "\n",
        "\n",
        "    def forward(self,x):\n",
        "        x = self.c_fc(x)\n",
        "        x = self.gelu(x)\n",
        "        x = self.c_proj(x)\n",
        "\n",
        "        return x\n",
        "\n",
        "# ----------------------------------------------------------------------------------\n",
        "\n",
        "class SelfAttention(nn.Module):\n",
        "\n",
        "    def __init__(self, config):\n",
        "        super().__init__()\n",
        "\n",
        "        block_size = config.block_size\n",
        "\n",
        "        self.n_head = n_head = config.n_head\n",
        "        self.n_embd = n_embd = config.n_embd\n",
        "\n",
        "\n",
        "        assert n_embd % n_head == 0\n",
        "        self.head_size = n_embd // n_head\n",
        "\n",
        "        self.c_attn = nn.Linear(n_embd, 3 * n_embd)     # fan out : n_head * 3 * head_size\n",
        "\n",
        "        self.c_proj = nn.Linear(n_embd, n_embd)\n",
        "\n",
        "        self.c_proj.FLAG = 1\n",
        "\n",
        "        self.register_buffer(\"bias\", torch.tril(torch.ones(block_size, block_size)))\n",
        "\n",
        "\n",
        "\n",
        "    def forward(self, x):\n",
        "        B, T, C = x.size()  # C = n_embd = n_head * head_size\n",
        "\n",
        "        qkv = self.c_attn(x)    # B,T, 3*n_embd\n",
        "\n",
        "        q, k, v = qkv.split(self.n_embd, dim=2)    # each : B,T, n_head * head_size\n",
        "\n",
        "        k = k.view(B, T, self.n_head, self.head_size).transpose(1, 2)    # B, n_head, T, head_size\n",
        "        q = q.view(B, T, self.n_head, self.head_size).transpose(1, 2)    # \"\"\n",
        "        v = v.view(B, T, self.n_head, self.head_size).transpose(1, 2)    # \"\"\n",
        "\n",
        "        att = (q @ k.transpose(-2, -1)) * (self.head_size**-0.5)         # B, n_head, T, T\n",
        "        att = att.masked_fill(self.bias[:T,:T] == 0, float('-inf'))\n",
        "        att = F.softmax(att, dim=-1)\n",
        "\n",
        "        y = att @ v        # B, n_head, T, head_size\n",
        "        y = y.transpose(1, 2).contiguous().view(B, T, C)   # B, T , n_embd   (n_embd = n_head * head_size)\n",
        "\n",
        "        y = self.c_proj(y)\n",
        "        return y\n",
        ""
      ],
      "metadata": {
        "id": "we2k_2CzTNUn"
      },
      "execution_count": 6,
      "outputs": []
    },
    {
      "cell_type": "markdown",
      "source": [
        "## Train for single batch"
      ],
      "metadata": {
        "id": "aMtzc4ZoT1-1"
      }
    },
    {
      "cell_type": "code",
      "source": [
        "max_iter = 50 # 10000\n",
        "lr = 3e-4\n",
        "\n",
        "\n",
        "\n",
        "#------------------------------------------------------------------\n",
        "\n",
        "#Initialize model\n",
        "\n",
        "config = GPT2Config()\n",
        "\n",
        "gpt2_model = GPT2(config)\n",
        "gpt2_model = gpt2_model.to(device)\n",
        "\n",
        "\n",
        "#------------------------------------------------------------------\n",
        "\n",
        "\n",
        "#text read\n",
        "with open('input.txt', 'r') as f:\n",
        "    text = f.read()\n",
        "\n",
        "#get encoder\n",
        "enc = tiktoken.get_encoding('gpt2')\n",
        "\n",
        "\n",
        "#prepare data to train\n",
        "data = text[:1000]\n",
        "tokens = enc.encode(data)    #encoding\n",
        "\n",
        "\n",
        "#Just one batch\n",
        "\n",
        "B,T = 4,8\n",
        "temp = torch.tensor(tokens[:B*T+1])\n",
        "temp.to(device)\n",
        "xb = temp[:-1].view(B,T)\n",
        "yb = temp[1:].view(B,T)\n",
        "xb = xb.to(device)\n",
        "yb = yb.to(device)\n",
        "\n",
        "#------------------------------------------------------------------\n",
        "\n",
        "#Train\n",
        "losses = torch.zeros((max_iter,))\n",
        "\n",
        "\n",
        "optimizer = torch.optim.AdamW(gpt2_model.parameters(),lr=lr)\n",
        "\n",
        "for i in range(max_iter):\n",
        "\n",
        "    # xb,yb = get_batch('train')\n",
        "\n",
        "    logits , loss = gpt2_model(xb,yb)\n",
        "\n",
        "    #train\n",
        "    optimizer.zero_grad(set_to_none=True)\n",
        "    loss.backward()\n",
        "    optimizer.step()\n",
        "\n",
        "\n",
        "\n",
        "    losses[i] = loss.item()   # store losses\n",
        "\n",
        "\n",
        "\n",
        "\n",
        "print(losses[-1])\n"
      ],
      "metadata": {
        "colab": {
          "base_uri": "https://localhost:8080/"
        },
        "id": "D7sOl1BOTt56",
        "outputId": "7e09476b-7c1d-41b5-bdac-ab46a83a8f23"
      },
      "execution_count": null,
      "outputs": [
        {
          "output_type": "stream",
          "name": "stdout",
          "text": [
            "tensor(0.1064)\n"
          ]
        }
      ]
    },
    {
      "cell_type": "code",
      "source": [
        "# plot losses just for one single batch\n",
        "\n",
        "import matplotlib.pyplot as plt\n",
        "\n",
        "plt.figure(figsize=(4,3))\n",
        "plt.plot(losses)\n",
        "plt.show()"
      ],
      "metadata": {
        "colab": {
          "base_uri": "https://localhost:8080/",
          "height": 291
        },
        "id": "wbVy2fEuU9KU",
        "outputId": "577cf4fb-7cca-4de2-e3e9-fb15feaf18c8"
      },
      "execution_count": null,
      "outputs": [
        {
          "output_type": "display_data",
          "data": {
            "text/plain": [
              "<Figure size 400x300 with 1 Axes>"
            ],
            "image/png": "[encoded data removed]"
          },
          "metadata": {}
        }
      ]
    },
    {
      "cell_type": "markdown",
      "source": [
        "# Data Loader"
      ],
      "metadata": {
        "id": "3uOAKp3edAh1"
      }
    },
    {
      "cell_type": "code",
      "source": [
        "class DataLoader():\n",
        "\n",
        "  def __init__(self,B,T):\n",
        "\n",
        "    self.B = B\n",
        "    self.T = T\n",
        "\n",
        "    with open('input.txt', 'r') as f:\n",
        "      text = f.read()\n",
        "\n",
        "    enc = tiktoken.get_encoding('gpt2')\n",
        "    self.tokens = torch.tensor(enc.encode(text))\n",
        "\n",
        "    print(f'1 epoch size: {len(self.tokens//B*T)}')\n",
        "\n",
        "    self.count = 0\n",
        "\n",
        "\n",
        "\n",
        "  def get_batch(self):\n",
        "\n",
        "    B,T = self.B , self.T\n",
        "\n",
        "    temp = self.tokens[self.count:self.count+B*T+1]\n",
        "\n",
        "    x = temp[:-1].view(B,T)   #inputs\n",
        "    y = temp[1:].view(B,T)    #targets\n",
        "\n",
        "    self.count += B*T\n",
        "\n",
        "    # Reset\n",
        "    if (self.count+B*T+1) > len(self.tokens):\n",
        "      self.count = 0\n",
        "\n",
        "\n",
        "    return x,y\n"
      ],
      "metadata": {
        "id": "jt1uAEPdWPB_"
      },
      "execution_count": 8,
      "outputs": []
    },
    {
      "cell_type": "markdown",
      "source": [
        "## Train from DataLoader"
      ],
      "metadata": {
        "id": "GE5DzP1Tjj0p"
      }
    },
    {
      "cell_type": "code",
      "source": [
        "max_iter = 1000\n",
        "lr = 3e-4\n",
        "B = 32\n",
        "T = 8\n",
        "\n",
        "\n",
        "\n",
        "torch.manual_seed(278)\n",
        "if torch.cuda.is_available():\n",
        "  torch.cuda.manual_seed(278)\n",
        "\n",
        "\n",
        "\n",
        "#initialize model\n",
        "model = GPT2(GPT2Config())\n",
        "model = model.to(device)\n",
        "\n",
        "#create dataloader\n",
        "data = DataLoader(B,T)\n",
        "\n",
        "#optimizer object\n",
        "optimizer = torch.optim.AdamW(model.parameters(),lr = lr)\n",
        "\n",
        "#for store losses\n",
        "losses = torch.zeros((max_iter,))\n",
        "\n",
        "#optimize\n",
        "for i in range(max_iter):\n",
        "\n",
        "  #get_batch\n",
        "  xb , yb = data.get_batch()\n",
        "  xb , yb = xb.to(device),yb.to(device)\n",
        "\n",
        "  #forward pass the model\n",
        "  logits , loss = model(xb,yb)\n",
        "\n",
        "  optimizer.zero_grad()   #if not gradients will added to previous ones\n",
        "  loss.backward()         #backpropagation and calculate gradients\n",
        "  optimizer.step()        #update the parameters\n",
        "\n",
        "  losses[i] = loss.item() #store loss\n",
        "\n",
        "  if i%100==0:print(f'{i}/{max_iter}   {loss.item()}')\n",
        "\n"
      ],
      "metadata": {
        "colab": {
          "base_uri": "https://localhost:8080/"
        },
        "id": "R8orWGO_jenx",
        "outputId": "7ba39013-ad6a-478d-98c8-ca2e2c8665e1"
      },
      "execution_count": null,
      "outputs": [
        {
          "output_type": "stream",
          "name": "stdout",
          "text": [
            "1 epoch size: 338025\n",
            "0/1000   11.001113891601562\n",
            "100/1000   4.941615581512451\n",
            "200/1000   4.233631134033203\n",
            "300/1000   5.208221435546875\n",
            "400/1000   4.291534423828125\n",
            "500/1000   4.187107086181641\n",
            "600/1000   6.156216144561768\n",
            "700/1000   5.745358467102051\n",
            "800/1000   4.903677463531494\n",
            "900/1000   6.526307106018066\n"
          ]
        }
      ]
    },
    {
      "cell_type": "code",
      "source": [
        "plt.figure(figsize=(6,4))\n",
        "plt.plot(losses)\n",
        "plt.show()"
      ],
      "metadata": {
        "colab": {
          "base_uri": "https://localhost:8080/",
          "height": 368
        },
        "id": "QGz00-y0m4ud",
        "outputId": "b0194e82-d7db-45fe-9d54-60ce55eb43d9"
      },
      "execution_count": null,
      "outputs": [
        {
          "output_type": "display_data",
          "data": {
            "text/plain": [
              "<Figure size 600x400 with 1 Axes>"
            ],
            "image/png": "[encoded data removed]"
          },
          "metadata": {}
        }
      ]
    },
    {
      "cell_type": "markdown",
      "source": [
        "## After Model Initialization"
      ],
      "metadata": {
        "id": "NqWJonRY0-v0"
      }
    },
    {
      "cell_type": "code",
      "source": [
        "max_iter = 1000\n",
        "lr = 3e-4\n",
        "B = 4\n",
        "T = 32\n",
        "\n",
        "\n",
        "\n",
        "torch.manual_seed(278)\n",
        "if torch.cuda.is_available():\n",
        "  torch.cuda.manual_seed(278)\n",
        "\n",
        "\n",
        "\n",
        "#initialize model\n",
        "model = GPT2(GPT2Config())\n",
        "model = model.to(device)\n",
        "\n",
        "#create dataloader\n",
        "data = DataLoader(B,T)\n",
        "\n",
        "#optimizer object\n",
        "optimizer = torch.optim.AdamW(model.parameters(),lr = lr)\n",
        "\n",
        "#for store losses\n",
        "losses = torch.zeros((max_iter,))\n",
        "\n",
        "#optimize\n",
        "for i in range(max_iter):\n",
        "\n",
        "  #get_batch\n",
        "  xb , yb = data.get_batch()\n",
        "  xb , yb = xb.to(device),yb.to(device)\n",
        "\n",
        "  #forward pass the model\n",
        "  logits , loss = model(xb,yb)\n",
        "\n",
        "  optimizer.zero_grad()   #if not gradients will added to previous ones\n",
        "  loss.backward()         #backpropagation and calculate gradients\n",
        "  optimizer.step()        #update the parameters\n",
        "\n",
        "  losses[i] = loss.item() #store loss\n",
        "\n",
        "  if i%100==0:print(f'{i}/{max_iter}   {loss.item()}')\n",
        "\n"
      ],
      "metadata": {
        "id": "myVSgDzE1Mh6",
        "colab": {
          "base_uri": "https://localhost:8080/"
        },
        "outputId": "8bb2722a-88c6-4c30-8402-2e66162bd700"
      },
      "execution_count": 9,
      "outputs": [
        {
          "output_type": "stream",
          "name": "stdout",
          "text": [
            "1 epoch size: 338025\n",
            "0/1000   10.91861343383789\n",
            "100/1000   6.5374627113342285\n",
            "200/1000   5.827683925628662\n",
            "300/1000   6.255063533782959\n",
            "400/1000   4.690374374389648\n",
            "500/1000   6.255496025085449\n",
            "600/1000   6.115764617919922\n",
            "700/1000   5.1208295822143555\n",
            "800/1000   4.778581142425537\n",
            "900/1000   6.228084564208984\n"
          ]
        }
      ]
    },
    {
      "cell_type": "code",
      "source": [
        "plt.figure(figsize=(6,4))\n",
        "plt.plot(losses)\n",
        "plt.show()"
      ],
      "metadata": {
        "colab": {
          "base_uri": "https://localhost:8080/",
          "height": 368
        },
        "id": "sjPJz1_C1dyF",
        "outputId": "21d5a4c0-a2f6-4563-871e-fa1a4a1578da"
      },
      "execution_count": 12,
      "outputs": [
        {
          "output_type": "display_data",
          "data": {
            "text/plain": [
              "<Figure size 600x400 with 1 Axes>"
            ],
            "image/png": "[encoded data removed]"
          },
          "metadata": {}
        }
      ]
    },
    {
      "cell_type": "code",
      "source": [],
      "metadata": {
        "id": "i3JZKMHD2H2W"
      },
      "execution_count": null,
      "outputs": []
    }
  ]
}