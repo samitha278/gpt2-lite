{
  "cells": [
    {
      "cell_type": "markdown",
      "metadata": {
        "id": "view-in-github",
        "colab_type": "text"
      },
      "source": [
        "<a href=\"https://colab.research.google.com/github/samitha278/gpt2-lite/blob/main/optimize2_gpt2.ipynb\" target=\"_parent\"><img src=\"https://colab.research.google.com/assets/colab-badge.svg\" alt=\"Open In Colab\"/></a>"
      ]
    },
    {
      "cell_type": "code",
      "execution_count": 1,
      "metadata": {
        "id": "ScH3P5_qUOfm"
      },
      "outputs": [],
      "source": [
        "import torch\n",
        "import torch.nn as nn\n",
        "import torch.nn.functional as F\n",
        "\n",
        "import gdown\n",
        "import time\n",
        "import matplotlib.pyplot as plt\n",
        "\n",
        "import tiktoken\n",
        "\n",
        "from dataclasses import dataclass\n",
        "\n",
        "\n",
        "device = 'cuda' if torch.cuda.is_available() else 'cpu'"
      ]
    },
    {
      "cell_type": "code",
      "execution_count": 2,
      "metadata": {
        "colab": {
          "base_uri": "https://localhost:8080/",
          "height": 105
        },
        "id": "PZCxXIJKUV-q",
        "outputId": "a771aedd-7b03-444d-b4e1-b6a484206481"
      },
      "outputs": [
        {
          "output_type": "stream",
          "name": "stderr",
          "text": [
            "Downloading...\n",
            "From: https://drive.google.com/uc?id=1ia6z4itw7WJWpnoTohURX6Lm-AnZmVZz\n",
            "To: /content/input.txt\n",
            "100%|██████████| 1.12M/1.12M [00:00<00:00, 9.94MB/s]\n"
          ]
        },
        {
          "output_type": "execute_result",
          "data": {
            "text/plain": [
              "'input.txt'"
            ],
            "application/vnd.google.colaboratory.intrinsic+json": {
              "type": "string"
            }
          },
          "metadata": {},
          "execution_count": 2
        }
      ],
      "source": [
        "# Data file doenload\n",
        "\n",
        "file_id = \"1ia6z4itw7WJWpnoTohURX6Lm-AnZmVZz\"\n",
        "url = f\"https://drive.google.com/uc?id={file_id}\"\n",
        "\n",
        "output = \"input.txt\"\n",
        "gdown.download(url, output, quiet=False)"
      ]
    },
    {
      "cell_type": "markdown",
      "metadata": {
        "id": "p-iE91UyUYSn"
      },
      "source": [
        "# GPT-2 Model with Flash Attention"
      ]
    },
    {
      "cell_type": "code",
      "execution_count": 3,
      "metadata": {
        "id": "k6TZxU1WUcn6"
      },
      "outputs": [],
      "source": [
        "@dataclass\n",
        "class GPT2Config:\n",
        "    block_size : int = 1024\n",
        "    vocab_size : int = 50257\n",
        "    n_layer : int = 12\n",
        "    n_head : int = 12\n",
        "    n_embd : int = 768\n",
        "\n",
        "\n",
        "# ----------------------------------------------------------------------------------\n",
        "\n",
        "\n",
        "class GPT2(nn.Module):\n",
        "\n",
        "    def __init__(self,config):\n",
        "        super().__init__()\n",
        "\n",
        "        self.config = config\n",
        "\n",
        "        self.transformer = nn.ModuleDict(dict(\n",
        "            wte = nn.Embedding(config.vocab_size,config.n_embd),\n",
        "            wpe = nn.Embedding(config.block_size,config.n_embd),\n",
        "\n",
        "            h = nn.ModuleList([Block(config) for i in range(config.n_layer)]),\n",
        "\n",
        "            ln_f = nn.LayerNorm(config.n_embd),\n",
        "\n",
        "        ))\n",
        "\n",
        "        self.lm_head = nn.Linear(config.n_embd,config.vocab_size, bias=False)\n",
        "\n",
        "\n",
        "        #weight sharing\n",
        "        self.transformer.wte.weight = self.lm_head.weight\n",
        "        #Save ~38M parameters\n",
        "\n",
        "        self.apply(self._init_weights)\n",
        "\n",
        "\n",
        "\n",
        "    def _init_weights(self,module):\n",
        "\n",
        "        if isinstance(module,nn.Linear):\n",
        "            std = 0.02\n",
        "            if hasattr(module,'FLAG'):\n",
        "                std *= (2*self.config.n_layer) ** -0.5           #scaledown std\n",
        "            torch.nn.init.normal_(module.weight,mean=0.0,std=std)\n",
        "            if module.bias is not None:\n",
        "                torch.nn.init.zeros_(module.bias)\n",
        "        elif isinstance(module,nn.Embedding):\n",
        "            torch.nn.init.normal_(module.weight,mean=0.0,std=0.02)\n",
        "\n",
        "\n",
        "\n",
        "    def forward(self,x,targets= None):\n",
        "\n",
        "        B,T = x.shape\n",
        "        assert T<= self.config.block_size   # positional embd table max size = block_size\n",
        "        tx = self.transformer.wte(x)       #token embedding\n",
        "        px = self.transformer.wpe(torch.arange(0,T,self.config.block_size,device=device)) #positional embedding\n",
        "\n",
        "        x = tx+px     # add both\n",
        "\n",
        "        for block in self.transformer.h:\n",
        "          x = block(x)\n",
        "\n",
        "        x = self.transformer.ln_f(x)\n",
        "\n",
        "        logits = self.lm_head(x)\n",
        "\n",
        "        if targets is None:\n",
        "            return logits\n",
        "        else:\n",
        "            loss = F.cross_entropy(logits.view(B*T,-1) ,targets.view(-1))\n",
        "            return logits,loss\n",
        "\n",
        "\n",
        "\n",
        "    @classmethod\n",
        "    def from_pretrained(cls, model_type='gpt2'):\n",
        "        from transformers import GPT2LMHeadModel\n",
        "        assert model_type == 'gpt2'\n",
        "\n",
        "        config_args = dict(n_layer=12, n_head=12, n_embd=768, vocab_size=50257, block_size=1024)\n",
        "        config = GPT2Config(**config_args)\n",
        "        model = GPT2(config)\n",
        "\n",
        "        sd = model.state_dict()\n",
        "        sd_keys = [k for k in sd.keys() if not k.endswith('.attn.bias')]\n",
        "\n",
        "        model_hf = GPT2LMHeadModel.from_pretrained(model_type)\n",
        "        sd_hf = model_hf.state_dict()\n",
        "        sd_keys_hf = [k for k in sd_hf.keys() if not k.endswith(('.attn.masked_bias', '.attn.bias'))]\n",
        "\n",
        "        transposed = ['attn.c_attn.weight', 'attn.c_proj.weight', 'mlp.c_fc.weight', 'mlp.c_proj.weight']\n",
        "        assert len(sd_keys_hf) == len(sd_keys)\n",
        "\n",
        "        for k in sd_keys_hf:\n",
        "            if any(k.endswith(w) for w in transposed):\n",
        "                assert sd_hf[k].shape[::-1] == sd[k].shape\n",
        "                with torch.no_grad():\n",
        "                    sd[k].copy_(sd_hf[k].t())\n",
        "            else:\n",
        "                assert sd_hf[k].shape == sd[k].shape\n",
        "                with torch.no_grad():\n",
        "                    sd[k].copy_(sd_hf[k])\n",
        "\n",
        "        return model\n",
        "\n",
        "\n",
        "# ----------------------------------------------------------------------------------\n",
        "\n",
        "\n",
        "\n",
        "class Block(nn.Module):\n",
        "\n",
        "    def __init__(self,config):\n",
        "        super().__init__()\n",
        "        self.config = config\n",
        "\n",
        "        self.ln_1 = nn.LayerNorm(config.n_embd)\n",
        "        self.attn = SelfAttention(config)\n",
        "        self.ln_2 = nn.LayerNorm(config.n_embd)\n",
        "        self.mlp = MLP(config)\n",
        "\n",
        "\n",
        "    def forward(self,x):\n",
        "\n",
        "        x = self.attn(self.ln_1(x)) + x\n",
        "        x = self.mlp(self.ln_2(x)) + x\n",
        "\n",
        "        return x\n",
        "\n",
        "\n",
        "\n",
        "# ----------------------------------------------------------------------------------\n",
        "\n",
        "\n",
        "class MLP(nn.Module):\n",
        "\n",
        "    def __init__(self,config):\n",
        "        super().__init__()\n",
        "        self.config = config\n",
        "\n",
        "        self.c_fc = nn.Linear(config.n_embd,4*config.n_embd)\n",
        "        self.gelu = nn.GELU()\n",
        "        self.c_proj = nn.Linear(4*config.n_embd,config.n_embd)\n",
        "        self.c_proj.FLAG = 1\n",
        "\n",
        "\n",
        "    def forward(self,x):\n",
        "        x = self.c_fc(x)\n",
        "        x = self.gelu(x)\n",
        "        x = self.c_proj(x)\n",
        "\n",
        "        return x\n",
        "\n",
        "# ----------------------------------------------------------------------------------\n",
        "\n",
        "class SelfAttention(nn.Module):\n",
        "\n",
        "    def __init__(self, config):\n",
        "        super().__init__()\n",
        "\n",
        "        block_size = config.block_size\n",
        "\n",
        "        self.n_head = n_head = config.n_head\n",
        "        self.n_embd = n_embd = config.n_embd\n",
        "\n",
        "\n",
        "        assert n_embd % n_head == 0\n",
        "        self.head_size = n_embd // n_head\n",
        "\n",
        "        self.c_attn = nn.Linear(n_embd, 3 * n_embd)     # fan out : n_head * 3 * head_size\n",
        "\n",
        "        self.c_proj = nn.Linear(n_embd, n_embd)\n",
        "\n",
        "        self.c_proj.FLAG = 1\n",
        "\n",
        "        self.register_buffer(\"bias\", torch.tril(torch.ones(block_size, block_size)))\n",
        "\n",
        "\n",
        "\n",
        "    def forward(self, x):\n",
        "        B, T, C = x.size()  # C = n_embd = n_head * head_size\n",
        "\n",
        "        qkv = self.c_attn(x)    # B,T, 3*n_embd\n",
        "\n",
        "        q, k, v = qkv.split(self.n_embd, dim=2)    # each : B,T, n_head * head_size\n",
        "\n",
        "        k = k.view(B, T, self.n_head, self.head_size).transpose(1, 2)    # B, n_head, T, head_size\n",
        "        q = q.view(B, T, self.n_head, self.head_size).transpose(1, 2)    # \"\"\n",
        "        v = v.view(B, T, self.n_head, self.head_size).transpose(1, 2)    # \"\"\n",
        "\n",
        "        # att = (q @ k.transpose(-2, -1)) * (self.head_size**-0.5)         # B, n_head, T, T\n",
        "        # att = att.masked_fill(self.bias[:T,:T] == 0, float('-inf'))\n",
        "        # att = F.softmax(att, dim=-1)\n",
        "\n",
        "        # y = att @ v        # B, n_head, T, head_size\n",
        "\n",
        "\n",
        "        # Flash Attention\n",
        "        y = F.scaled_dot_product_attention(q,k,v,is_causal=True)\n",
        "\n",
        "\n",
        "        y = y.transpose(1, 2).contiguous().view(B, T, C)   # B, T , n_embd   (n_embd = n_head * head_size)\n",
        "\n",
        "        y = self.c_proj(y)\n",
        "        return y\n",
        "\n",
        "\n",
        "\n",
        "\n",
        "\n",
        "# ----------------------------------------------------------------------------------\n",
        "\n",
        "class DataLoader():\n",
        "\n",
        "  def __init__(self,B,T):\n",
        "\n",
        "    self.B = B\n",
        "    self.T = T\n",
        "\n",
        "    with open('input.txt', 'r') as f:\n",
        "      text = f.read()\n",
        "\n",
        "    enc = tiktoken.get_encoding('gpt2')\n",
        "    self.tokens = torch.tensor(enc.encode(text))\n",
        "\n",
        "    print(f'1 epoch size: {len(self.tokens//B*T)}')\n",
        "\n",
        "    self.count = 0\n",
        "\n",
        "\n",
        "\n",
        "  def get_batch(self):\n",
        "\n",
        "    B,T = self.B , self.T\n",
        "\n",
        "    temp = self.tokens[self.count:self.count+B*T+1]\n",
        "\n",
        "    x = temp[:-1].view(B,T)   #inputs\n",
        "    y = temp[1:].view(B,T)    #targets\n",
        "\n",
        "    self.count += B*T\n",
        "\n",
        "    # Reset\n",
        "    if (self.count+B*T+1) > len(self.tokens):\n",
        "      self.count = 0\n",
        "\n",
        "    return x,y\n"
      ]
    },
    {
      "cell_type": "markdown",
      "metadata": {
        "id": "0Lh3t0-tXKfp"
      },
      "source": [
        "# Train with Flash Attention"
      ]
    },
    {
      "cell_type": "code",
      "execution_count": 4,
      "metadata": {
        "colab": {
          "base_uri": "https://localhost:8080/"
        },
        "id": "zWLTKxABXGvC",
        "outputId": "dcd77a97-ee0a-455f-fcff-a7e26c69a253"
      },
      "outputs": [
        {
          "output_type": "stream",
          "name": "stdout",
          "text": [
            "1 epoch size: 338025\n"
          ]
        },
        {
          "output_type": "stream",
          "name": "stderr",
          "text": [
            "W0925 05:10:09.955000 251 torch/_inductor/utils.py:1436] [0/0] Not enough SMs to use max_autotune_gemm mode\n"
          ]
        },
        {
          "output_type": "stream",
          "name": "stdout",
          "text": [
            "0/1000   11.04998779296875    29504.43410873413 ms\n",
            "100/1000   6.266678333282471    224.99513626098633 ms\n",
            "200/1000   5.910876274108887    228.49464416503906 ms\n",
            "300/1000   5.714513778686523    230.88407516479492 ms\n",
            "400/1000   5.469246864318848    239.96782302856445 ms\n",
            "500/1000   5.182411193847656    242.69342422485352 ms\n",
            "600/1000   5.377816677093506    248.34585189819336 ms\n",
            "700/1000   5.327686309814453    249.58300590515137 ms\n",
            "800/1000   5.103824615478516    243.99662017822266 ms\n",
            "900/1000   5.353772163391113    243.64280700683594 ms\n"
          ]
        }
      ],
      "source": [
        "max_iter = 1000\n",
        "lr = 3e-4\n",
        "B = 4\n",
        "T = 1024\n",
        "\n",
        "\n",
        "torch.manual_seed(278)\n",
        "if torch.cuda.is_available():\n",
        "  torch.cuda.manual_seed(278)\n",
        "\n",
        "\n",
        "model = GPT2(GPT2Config(vocab_size = 50304))\n",
        "model = model.to(device)\n",
        "model = torch.compile(model)    # compile model into optimize form\n",
        "\n",
        "\n",
        "\n",
        "data = DataLoader(B,T)\n",
        "optimizer = torch.optim.AdamW(model.parameters(),lr = lr)\n",
        "losses = torch.zeros((max_iter,))\n",
        "\n",
        "\n",
        "#Gradient Scalar\n",
        "scaler = torch.amp.GradScaler(device)     # Prevents gradient underflow when using FP16\n",
        "\n",
        "\n",
        "\n",
        "#optimize\n",
        "for i in range(max_iter):\n",
        "\n",
        "  t0 = time.time()   # time start\n",
        "\n",
        "  xb , yb = data.get_batch()\n",
        "  xb , yb = xb.to(device),yb.to(device)\n",
        "\n",
        "  #AMP\n",
        "  with torch.autocast(device_type=device, dtype=torch.float16):   # FP16\n",
        "    logits , loss = model(xb,yb)\n",
        "\n",
        "  optimizer.zero_grad()\n",
        "\n",
        "  scaler.scale(loss).backward()     # multiplies loss by a scale factor\n",
        "  scaler.step(optimizer)            # unscales gradients then call optimizer step\n",
        "  scaler.update()                   # adjusts the scale factor automatically each iteration\n",
        "\n",
        "\n",
        "  torch.cuda.synchronize() if torch.cuda.is_available() else None\n",
        "\n",
        "  t1 = time.time()   # time end\n",
        "  t = (t1 - t0)*1000 # ms\n",
        "\n",
        "  losses[i] = loss.item()\n",
        "\n",
        "  if i%100==0 : print(f'{i}/{max_iter}   {loss.item()}    {t} ms')"
      ]
    },
    {
      "cell_type": "code",
      "execution_count": 5,
      "metadata": {
        "colab": {
          "base_uri": "https://localhost:8080/",
          "height": 368
        },
        "id": "Dq57FDj9x3Bj",
        "outputId": "047825bd-c3b4-4d71-9220-da313f0ec1f3"
      },
      "outputs": [
        {
          "output_type": "display_data",
          "data": {
            "text/plain": [
              "<Figure size 600x400 with 1 Axes>"
            ],
            "image/png": "[encoded data removed]"
          },
          "metadata": {}
        }
      ],
      "source": [
        "plt.figure(figsize=(6,4))\n",
        "plt.plot(losses)\n",
        "plt.show()"
      ]
    },
    {
      "cell_type": "code",
      "execution_count": 5,
      "metadata": {
        "id": "6bJzZy_gx7bE"
      },
      "outputs": [],
      "source": []
    }
  ],
  "metadata": {
    "colab": {
      "provenance": [],
      "gpuType": "T4",
      "authorship_tag": "ABX9TyNcnYNJN1KqmBDL4tYGf78r",
      "include_colab_link": true
    },
    "kernelspec": {
      "display_name": "Python 3",
      "name": "python3"
    },
    "language_info": {
      "name": "python"
    },
    "accelerator": "GPU"
  },
  "nbformat": 4,
  "nbformat_minor": 0
}