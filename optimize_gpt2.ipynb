{
  "nbformat": 4,
  "nbformat_minor": 0,
  "metadata": {
    "colab": {
      "provenance": [],
      "authorship_tag": "ABX9TyOIhqGrQxTQh4D750r7kl9O",
      "include_colab_link": true
    },
    "kernelspec": {
      "name": "python3",
      "display_name": "Python 3"
    },
    "language_info": {
      "name": "python"
    }
  },
  "cells": [
    {
      "cell_type": "markdown",
      "metadata": {
        "id": "view-in-github",
        "colab_type": "text"
      },
      "source": [
        "<a href=\"https://colab.research.google.com/github/samitha278/gpt2-lite/blob/main/optimize_gpt2.ipynb\" target=\"_parent\"><img src=\"https://colab.research.google.com/assets/colab-badge.svg\" alt=\"Open In Colab\"/></a>"
      ]
    },
    {
      "cell_type": "code",
      "execution_count": 1,
      "metadata": {
        "id": "YyPu9xxP5ACo"
      },
      "outputs": [],
      "source": [
        "import torch\n",
        "import torch.nn as nn\n",
        "import torch.nn.functional as F\n",
        "\n",
        "import gdown\n",
        "import time\n",
        "import matplotlib.pyplot as plt\n",
        "\n",
        "import tiktoken\n",
        "\n",
        "from dataclasses import dataclass\n",
        "\n",
        "\n",
        "device = 'cuda' if torch.cuda.is_available() else 'cpu'"
      ]
    },
    {
      "cell_type": "code",
      "source": [
        "# Data file doenload\n",
        "\n",
        "file_id = \"1ia6z4itw7WJWpnoTohURX6Lm-AnZmVZz\"\n",
        "url = f\"https://drive.google.com/uc?id={file_id}\"\n",
        "\n",
        "output = \"input.txt\"\n",
        "gdown.download(url, output, quiet=False)"
      ],
      "metadata": {
        "colab": {
          "base_uri": "https://localhost:8080/",
          "height": 105
        },
        "id": "D9-23OT55II_",
        "outputId": "e2fe84ee-0bbd-49e7-be97-5196d5f0b15d"
      },
      "execution_count": 2,
      "outputs": [
        {
          "output_type": "stream",
          "name": "stderr",
          "text": [
            "Downloading...\n",
            "From: https://drive.google.com/uc?id=1ia6z4itw7WJWpnoTohURX6Lm-AnZmVZz\n",
            "To: /content/input.txt\n",
            "100%|██████████| 1.12M/1.12M [00:00<00:00, 12.0MB/s]\n"
          ]
        },
        {
          "output_type": "execute_result",
          "data": {
            "text/plain": [
              "'input.txt'"
            ],
            "application/vnd.google.colaboratory.intrinsic+json": {
              "type": "string"
            }
          },
          "metadata": {},
          "execution_count": 2
        }
      ]
    },
    {
      "cell_type": "markdown",
      "source": [
        "# GPT-2 Model"
      ],
      "metadata": {
        "id": "GAId_TMB5LLf"
      }
    },
    {
      "cell_type": "code",
      "source": [
        "@dataclass\n",
        "class GPT2Config:\n",
        "    block_size : int = 1024\n",
        "    vocab_size : int = 50257\n",
        "    n_layer : int = 12\n",
        "    n_head : int = 12\n",
        "    n_embd : int = 768\n",
        "\n",
        "\n",
        "# ----------------------------------------------------------------------------------\n",
        "\n",
        "\n",
        "class GPT2(nn.Module):\n",
        "\n",
        "    def __init__(self,config):\n",
        "        super().__init__()\n",
        "\n",
        "        self.config = config\n",
        "\n",
        "        self.transformer = nn.ModuleDict(dict(\n",
        "            wte = nn.Embedding(config.vocab_size,config.n_embd),\n",
        "            wpe = nn.Embedding(config.block_size,config.n_embd),\n",
        "\n",
        "            h = nn.ModuleList([Block(config) for i in range(config.n_layer)]),\n",
        "\n",
        "            ln_f = nn.LayerNorm(config.n_embd),\n",
        "\n",
        "        ))\n",
        "\n",
        "        self.lm_head = nn.Linear(config.n_embd,config.vocab_size, bias=False)\n",
        "\n",
        "\n",
        "        #weight sharing\n",
        "        self.transformer.wte.weight = self.lm_head.weight\n",
        "        #Save ~38M parameters\n",
        "\n",
        "        self.apply(self._init_weights)\n",
        "\n",
        "\n",
        "\n",
        "    def _init_weights(self,module):\n",
        "\n",
        "        if isinstance(module,nn.Linear):\n",
        "            std = 0.02\n",
        "            if hasattr(module,'FLAG'):\n",
        "                std *= (2*self.config.n_layer) ** -0.5           #scaledown std\n",
        "            torch.nn.init.normal_(module.weight,mean=0.0,std=std)\n",
        "            if module.bias is not None:\n",
        "                torch.nn.init.zeros_(module.bias)\n",
        "        elif isinstance(module,nn.Embedding):\n",
        "            torch.nn.init.normal_(module.weight,mean=0.0,std=0.02)\n",
        "\n",
        "\n",
        "\n",
        "    def forward(self,x,targets= None):\n",
        "\n",
        "        B,T = x.shape\n",
        "        assert T<= self.config.block_size   # positional embd table max size = block_size\n",
        "        tx = self.transformer.wte(x)       #token embedding\n",
        "        px = self.transformer.wpe(torch.arange(0,T,self.config.block_size,device=device)) #positional embedding\n",
        "\n",
        "        x = tx+px     # add both\n",
        "\n",
        "        for block in self.transformer.h:\n",
        "          x = block(x)\n",
        "\n",
        "        x = self.transformer.ln_f(x)\n",
        "\n",
        "        logits = self.lm_head(x)\n",
        "\n",
        "        if targets is None:\n",
        "            return logits\n",
        "        else:\n",
        "            loss = F.cross_entropy(logits.view(B*T,-1) ,targets.view(-1))\n",
        "            return logits,loss\n",
        "\n",
        "\n",
        "\n",
        "    @classmethod\n",
        "    def from_pretrained(cls, model_type='gpt2'):\n",
        "        from transformers import GPT2LMHeadModel\n",
        "        assert model_type == 'gpt2'\n",
        "\n",
        "        config_args = dict(n_layer=12, n_head=12, n_embd=768, vocab_size=50257, block_size=1024)\n",
        "        config = GPT2Config(**config_args)\n",
        "        model = GPT2(config)\n",
        "\n",
        "        sd = model.state_dict()\n",
        "        sd_keys = [k for k in sd.keys() if not k.endswith('.attn.bias')]\n",
        "\n",
        "        model_hf = GPT2LMHeadModel.from_pretrained(model_type)\n",
        "        sd_hf = model_hf.state_dict()\n",
        "        sd_keys_hf = [k for k in sd_hf.keys() if not k.endswith(('.attn.masked_bias', '.attn.bias'))]\n",
        "\n",
        "        transposed = ['attn.c_attn.weight', 'attn.c_proj.weight', 'mlp.c_fc.weight', 'mlp.c_proj.weight']\n",
        "        assert len(sd_keys_hf) == len(sd_keys)\n",
        "\n",
        "        for k in sd_keys_hf:\n",
        "            if any(k.endswith(w) for w in transposed):\n",
        "                assert sd_hf[k].shape[::-1] == sd[k].shape\n",
        "                with torch.no_grad():\n",
        "                    sd[k].copy_(sd_hf[k].t())\n",
        "            else:\n",
        "                assert sd_hf[k].shape == sd[k].shape\n",
        "                with torch.no_grad():\n",
        "                    sd[k].copy_(sd_hf[k])\n",
        "\n",
        "        return model\n",
        "\n",
        "\n",
        "# ----------------------------------------------------------------------------------\n",
        "\n",
        "\n",
        "\n",
        "class Block(nn.Module):\n",
        "\n",
        "    def __init__(self,config):\n",
        "        super().__init__()\n",
        "        self.config = config\n",
        "\n",
        "        self.ln_1 = nn.LayerNorm(config.n_embd)\n",
        "        self.attn = SelfAttention(config)\n",
        "        self.ln_2 = nn.LayerNorm(config.n_embd)\n",
        "        self.mlp = MLP(config)\n",
        "\n",
        "\n",
        "    def forward(self,x):\n",
        "\n",
        "        x = self.attn(self.ln_1(x)) + x\n",
        "        x = self.mlp(self.ln_2(x)) + x\n",
        "\n",
        "        return x\n",
        "\n",
        "\n",
        "\n",
        "# ----------------------------------------------------------------------------------\n",
        "\n",
        "\n",
        "class MLP(nn.Module):\n",
        "\n",
        "    def __init__(self,config):\n",
        "        super().__init__()\n",
        "        self.config = config\n",
        "\n",
        "        self.c_fc = nn.Linear(config.n_embd,4*config.n_embd)\n",
        "        self.gelu = nn.GELU()\n",
        "        self.c_proj = nn.Linear(4*config.n_embd,config.n_embd)\n",
        "        self.c_proj.FLAG = 1\n",
        "\n",
        "\n",
        "    def forward(self,x):\n",
        "        x = self.c_fc(x)\n",
        "        x = self.gelu(x)\n",
        "        x = self.c_proj(x)\n",
        "\n",
        "        return x\n",
        "\n",
        "# ----------------------------------------------------------------------------------\n",
        "\n",
        "class SelfAttention(nn.Module):\n",
        "\n",
        "    def __init__(self, config):\n",
        "        super().__init__()\n",
        "\n",
        "        block_size = config.block_size\n",
        "\n",
        "        self.n_head = n_head = config.n_head\n",
        "        self.n_embd = n_embd = config.n_embd\n",
        "\n",
        "\n",
        "        assert n_embd % n_head == 0\n",
        "        self.head_size = n_embd // n_head\n",
        "\n",
        "        self.c_attn = nn.Linear(n_embd, 3 * n_embd)     # fan out : n_head * 3 * head_size\n",
        "\n",
        "        self.c_proj = nn.Linear(n_embd, n_embd)\n",
        "\n",
        "        self.c_proj.FLAG = 1\n",
        "\n",
        "        self.register_buffer(\"bias\", torch.tril(torch.ones(block_size, block_size)))\n",
        "\n",
        "\n",
        "\n",
        "    def forward(self, x):\n",
        "        B, T, C = x.size()  # C = n_embd = n_head * head_size\n",
        "\n",
        "        qkv = self.c_attn(x)    # B,T, 3*n_embd\n",
        "\n",
        "        q, k, v = qkv.split(self.n_embd, dim=2)    # each : B,T, n_head * head_size\n",
        "\n",
        "        k = k.view(B, T, self.n_head, self.head_size).transpose(1, 2)    # B, n_head, T, head_size\n",
        "        q = q.view(B, T, self.n_head, self.head_size).transpose(1, 2)    # \"\"\n",
        "        v = v.view(B, T, self.n_head, self.head_size).transpose(1, 2)    # \"\"\n",
        "\n",
        "        att = (q @ k.transpose(-2, -1)) * (self.head_size**-0.5)         # B, n_head, T, T\n",
        "        att = att.masked_fill(self.bias[:T,:T] == 0, float('-inf'))\n",
        "        att = F.softmax(att, dim=-1)\n",
        "\n",
        "        y = att @ v        # B, n_head, T, head_size\n",
        "        y = y.transpose(1, 2).contiguous().view(B, T, C)   # B, T , n_embd   (n_embd = n_head * head_size)\n",
        "\n",
        "        y = self.c_proj(y)\n",
        "        return y\n",
        "\n",
        "\n",
        "\n",
        "\n",
        "\n",
        "# ----------------------------------------------------------------------------------\n",
        "\n",
        "class DataLoader():\n",
        "\n",
        "  def __init__(self,B,T):\n",
        "\n",
        "    self.B = B\n",
        "    self.T = T\n",
        "\n",
        "    with open('input.txt', 'r') as f:\n",
        "      text = f.read()\n",
        "\n",
        "    enc = tiktoken.get_encoding('gpt2')\n",
        "    self.tokens = torch.tensor(enc.encode(text))\n",
        "\n",
        "    print(f'1 epoch size: {len(self.tokens//B*T)}')\n",
        "\n",
        "    self.count = 0\n",
        "\n",
        "\n",
        "\n",
        "  def get_batch(self):\n",
        "\n",
        "    B,T = self.B , self.T\n",
        "\n",
        "    temp = self.tokens[self.count:self.count+B*T+1]\n",
        "\n",
        "    x = temp[:-1].view(B,T)   #inputs\n",
        "    y = temp[1:].view(B,T)    #targets\n",
        "\n",
        "    self.count += B*T\n",
        "\n",
        "    # Reset\n",
        "    if (self.count+B*T+1) > len(self.tokens):\n",
        "      self.count = 0\n",
        "\n",
        "    return x,y\n"
      ],
      "metadata": {
        "id": "SFNHLd125Qgo"
      },
      "execution_count": 3,
      "outputs": []
    },
    {
      "cell_type": "markdown",
      "source": [
        "## Automatic Mixed Precision (AMP)\n",
        "PyTorch automatically picks the best precision (FP32, FP16, BF16) for each operation."
      ],
      "metadata": {
        "id": "DuILWZ-V5-WZ"
      }
    },
    {
      "cell_type": "code",
      "source": [
        "max_iter = 100\n",
        "lr = 3e-4\n",
        "B = 4\n",
        "T = 1024\n",
        "\n",
        "\n",
        "torch.manual_seed(278)\n",
        "if torch.cuda.is_available():\n",
        "  torch.cuda.manual_seed(278)\n",
        "\n",
        "\n",
        "model = GPT2(GPT2Config())\n",
        "model = model.to(device)\n",
        "\n",
        "\n",
        "data = DataLoader(B,T)\n",
        "\n",
        "optimizer = torch.optim.AdamW(model.parameters(),lr = lr)\n",
        "\n",
        "losses = torch.zeros((max_iter,))\n",
        "\n",
        "#optimize\n",
        "for i in range(max_iter):\n",
        "\n",
        "  t0 = time.time()   # time start\n",
        "\n",
        "  xb , yb = data.get_batch()\n",
        "  xb , yb = xb.to(device),yb.to(device)\n",
        "\n",
        "  #AMP\n",
        "  with torch.autocast(device_type=device, dtype=torch.bfloat16):\n",
        "    logits , loss = model(xb,yb)\n",
        "\n",
        "  optimizer.zero_grad()\n",
        "  loss.backward()\n",
        "  optimizer.step()\n",
        "\n",
        "  torch.cuda.synchronize()   # cpu and cuda sync\n",
        "\n",
        "  t1 = time.time()   # time end\n",
        "\n",
        "  t = (t1 - t0)*1000   # ms\n",
        "\n",
        "  losses[i] = loss.item()\n",
        "\n",
        "  if i%10==0 : print(f'{i}/{max_iter}   {loss.item()}    {t} ms')"
      ],
      "metadata": {
        "colab": {
          "base_uri": "https://localhost:8080/"
        },
        "id": "sgYo-UuC6bYS",
        "outputId": "e435610b-c51f-43a8-b95c-212c0bde4f01"
      },
      "execution_count": 6,
      "outputs": [
        {
          "output_type": "stream",
          "name": "stdout",
          "text": [
            "1 epoch size: 338025\n",
            "0/100   10.93682861328125    1616.471767425537 ms\n",
            "10/100   7.506147384643555    1478.6090850830078 ms\n",
            "20/100   7.094169616699219    1495.218276977539 ms\n",
            "30/100   6.7423095703125    1506.7317485809326 ms\n",
            "40/100   6.604820251464844    1517.301082611084 ms\n",
            "50/100   6.578647613525391    1528.116226196289 ms\n",
            "60/100   6.569816589355469    1536.2906455993652 ms\n",
            "70/100   6.435047149658203    1549.015998840332 ms\n",
            "80/100   6.783174514770508    1558.340072631836 ms\n",
            "90/100   6.256216049194336    1558.7353706359863 ms\n"
          ]
        }
      ]
    },
    {
      "cell_type": "code",
      "source": [
        "plt.figure(figsize=(6,4))\n",
        "plt.plot(losses)\n",
        "plt.show()"
      ],
      "metadata": {
        "colab": {
          "base_uri": "https://localhost:8080/",
          "height": 368
        },
        "id": "E6oyrqH780lw",
        "outputId": "7e7a488f-ee2b-4e67-cabe-4aacb2aa5dc1"
      },
      "execution_count": 7,
      "outputs": [
        {
          "output_type": "display_data",
          "data": {
            "text/plain": [
              "<Figure size 600x400 with 1 Axes>"
            ],
            "image/png": "[encoded data removed]"
          },
          "metadata": {}
        }
      ]
    },
    {
      "cell_type": "markdown",
      "source": [
        "### T4 GPU doesn't support BF16"
      ],
      "metadata": {
        "id": "k4EWksL5CESR"
      }
    },
    {
      "cell_type": "markdown",
      "source": [
        "# FP16 Training & Gradient Scaling\n",
        "\n",
        "### Problem\n",
        "- In **FP16** Training, gradients can be very small.  \n",
        "- They may round to zero (**underflow**) → training becomes unstable.  \n",
        "\n",
        "### Solution → Gradient Scaling\n",
        "- Multiply loss by a **scale factor** before backprop.  \n",
        "- Makes gradients bigger → avoids underflow.  \n",
        "- Scale back down before optimizer step.  \n",
        "\n",
        "### `torch.cuda.amp.GradScaler()`\n",
        "- Prevents underflow in FP16.  \n",
        "- Adjusts scale automatically.  \n",
        "- Used with `torch.autocast` for mixed precision training.  \n"
      ],
      "metadata": {
        "id": "4IdCsM9ywMQo"
      }
    },
    {
      "cell_type": "code",
      "source": [
        "max_iter = 100\n",
        "lr = 3e-4\n",
        "B = 4\n",
        "T = 1024\n",
        "\n",
        "\n",
        "torch.manual_seed(278)\n",
        "if torch.cuda.is_available():\n",
        "  torch.cuda.manual_seed(278)\n",
        "\n",
        "\n",
        "model = GPT2(GPT2Config())\n",
        "model = model.to(device)\n",
        "\n",
        "\n",
        "\n",
        "data = DataLoader(B,T)\n",
        "optimizer = torch.optim.AdamW(model.parameters(),lr = lr)\n",
        "losses = torch.zeros((max_iter,))\n",
        "\n",
        "\n",
        "#Gradient Scalar\n",
        "scaler = torch.amp.GradScaler(device)     # Prevents gradient underflow when using FP16\n",
        "\n",
        "\n",
        "\n",
        "#optimize\n",
        "for i in range(max_iter):\n",
        "\n",
        "  t0 = time.time()   # time start\n",
        "\n",
        "  xb , yb = data.get_batch()\n",
        "  xb , yb = xb.to(device),yb.to(device)\n",
        "\n",
        "  #AMP\n",
        "  with torch.autocast(device_type=device, dtype=torch.float16):   # FP16\n",
        "    logits , loss = model(xb,yb)\n",
        "\n",
        "  optimizer.zero_grad()\n",
        "\n",
        "  scaler.scale(loss).backward()     # multiplies loss by a scale factor\n",
        "  scaler.step(optimizer)            # unscales gradients then call optimizer step\n",
        "  scaler.update()                   # adjusts the scale factor automatically each iteration\n",
        "\n",
        "\n",
        "  torch.cuda.synchronize()\n",
        "\n",
        "  t1 = time.time()   # time end\n",
        "  t = (t1 - t0)*1000 # ms\n",
        "\n",
        "  losses[i] = loss.item()\n",
        "\n",
        "  if i%10==0 : print(f'{i}/{max_iter}   {loss.item()}    {t} ms')"
      ],
      "metadata": {
        "colab": {
          "base_uri": "https://localhost:8080/"
        },
        "id": "ZiLlCu9FCXYM",
        "outputId": "d5b84a20-e716-4fdd-866c-e4ca81c3ff9e"
      },
      "execution_count": 4,
      "outputs": [
        {
          "output_type": "stream",
          "name": "stdout",
          "text": [
            "1 epoch size: 338025\n"
          ]
        },
        {
          "output_type": "stream",
          "name": "stderr",
          "text": [
            "/tmp/ipython-input-2856615254.py:23: FutureWarning: `torch.cuda.amp.GradScaler(args...)` is deprecated. Please use `torch.amp.GradScaler('cuda', args...)` instead.\n",
            "  scaler = torch.cuda.amp.GradScaler()     # Prevents gradient underflow when using FP16\n"
          ]
        },
        {
          "output_type": "stream",
          "name": "stdout",
          "text": [
            "0/100   10.936931610107422    2727.642774581909 ms\n",
            "10/100   7.506355285644531    457.3230743408203 ms\n",
            "20/100   7.090892314910889    461.38930320739746 ms\n",
            "30/100   6.739969253540039    458.10413360595703 ms\n",
            "40/100   6.603733062744141    461.1625671386719 ms\n",
            "50/100   6.583924770355225    461.41934394836426 ms\n",
            "60/100   6.57258939743042    465.5015468597412 ms\n",
            "70/100   6.435788631439209    466.77279472351074 ms\n",
            "80/100   6.785599708557129    464.48493003845215 ms\n",
            "90/100   6.31415319442749    465.05022048950195 ms\n"
          ]
        }
      ]
    },
    {
      "cell_type": "code",
      "source": [
        "plt.figure(figsize=(6,4))\n",
        "plt.plot(losses)\n",
        "plt.show()"
      ],
      "metadata": {
        "colab": {
          "base_uri": "https://localhost:8080/",
          "height": 368
        },
        "id": "K0-Y2kLf2Bsu",
        "outputId": "067dc416-3eef-4ef9-eb62-8dde6256e429"
      },
      "execution_count": 5,
      "outputs": [
        {
          "output_type": "display_data",
          "data": {
            "text/plain": [
              "<Figure size 600x400 with 1 Axes>"
            ],
            "image/png": "[encoded data removed]"
          },
          "metadata": {}
        }
      ]
    },
    {
      "cell_type": "markdown",
      "source": [
        "# With Torch Compile"
      ],
      "metadata": {
        "id": "rAV7faW4-64C"
      }
    },
    {
      "cell_type": "code",
      "source": [
        "max_iter = 1000\n",
        "lr = 3e-4\n",
        "B = 4\n",
        "T = 1024\n",
        "\n",
        "\n",
        "torch.manual_seed(278)\n",
        "if torch.cuda.is_available():\n",
        "  torch.cuda.manual_seed(278)\n",
        "\n",
        "\n",
        "model = GPT2(GPT2Config())\n",
        "model = model.to(device)\n",
        "model = torch.compile(model)    # compile model into optimize form\n",
        "\n",
        "\n",
        "\n",
        "data = DataLoader(B,T)\n",
        "optimizer = torch.optim.AdamW(model.parameters(),lr = lr)\n",
        "losses = torch.zeros((max_iter,))\n",
        "\n",
        "\n",
        "#Gradient Scalar\n",
        "scaler = torch.amp.GradScaler(device)     # Prevents gradient underflow when using FP16\n",
        "\n",
        "\n",
        "\n",
        "#optimize\n",
        "for i in range(max_iter):\n",
        "\n",
        "  t0 = time.time()   # time start\n",
        "\n",
        "  xb , yb = data.get_batch()\n",
        "  xb , yb = xb.to(device),yb.to(device)\n",
        "\n",
        "  #AMP\n",
        "  with torch.autocast(device_type=device, dtype=torch.float16):   # FP16\n",
        "    logits , loss = model(xb,yb)\n",
        "\n",
        "  optimizer.zero_grad()\n",
        "\n",
        "  scaler.scale(loss).backward()     # multiplies loss by a scale factor\n",
        "  scaler.step(optimizer)            # unscales gradients then call optimizer step\n",
        "  scaler.update()                   # adjusts the scale factor automatically each iteration\n",
        "\n",
        "\n",
        "  torch.cuda.synchronize()\n",
        "\n",
        "  t1 = time.time()   # time end\n",
        "  t = (t1 - t0)*1000 # ms\n",
        "\n",
        "  losses[i] = loss.item()\n",
        "\n",
        "  if i%100==0 : print(f'{i}/{max_iter}   {loss.item()}    {t} ms')"
      ],
      "metadata": {
        "colab": {
          "base_uri": "https://localhost:8080/"
        },
        "id": "EMwWqjoY_0Hw",
        "outputId": "ccecfa6b-08dd-4894-8975-7187d9f6c45e"
      },
      "execution_count": 7,
      "outputs": [
        {
          "output_type": "stream",
          "name": "stdout",
          "text": [
            "1 epoch size: 338025\n",
            "0/1000   10.936920166015625    351.55177116394043 ms\n",
            "100/1000   6.479531288146973    311.5057945251465 ms\n",
            "200/1000   6.402681350708008    304.485559463501 ms\n",
            "300/1000   6.378115653991699    304.52775955200195 ms\n",
            "400/1000   6.456864356994629    305.42635917663574 ms\n",
            "500/1000   6.316775321960449    304.31127548217773 ms\n",
            "600/1000   6.322683334350586    312.0260238647461 ms\n",
            "700/1000   6.105173110961914    310.18543243408203 ms\n",
            "800/1000   5.920889377593994    313.4734630584717 ms\n",
            "900/1000   6.097590446472168    309.53264236450195 ms\n"
          ]
        }
      ]
    },
    {
      "cell_type": "code",
      "source": [
        "plt.figure(figsize=(6,5))\n",
        "plt.plot(losses)\n",
        "plt.show()"
      ],
      "metadata": {
        "colab": {
          "base_uri": "https://localhost:8080/",
          "height": 447
        },
        "id": "8N-9MOHP3DKi",
        "outputId": "21a78c4d-5db4-43da-b012-f8d568ac295c"
      },
      "execution_count": 11,
      "outputs": [
        {
          "output_type": "display_data",
          "data": {
            "text/plain": [
              "<Figure size 600x500 with 1 Axes>"
            ],
            "image/png": "[encoded data removed]"
          },
          "metadata": {}
        }
      ]
    },
    {
      "cell_type": "markdown",
      "source": [
        "- Sudden spike is normal in FP16 Training with GradScaler\n",
        "- Reason : Gradient Overflow\n",
        "- GradScaler skips that optimizer step -> lowers the scale factor\n",
        "- Loss on that skipped step looks much higher\n",
        "- Training continues normally with the smaller scale"
      ],
      "metadata": {
        "id": "QBvoX-NkAlhS"
      }
    },
    {
      "cell_type": "markdown",
      "source": [
        "# Flash Attention\n",
        "\n",
        "Next optimize2_gpt2.ipynb"
      ],
      "metadata": {
        "id": "mKpobqQtSlGk"
      }
    },
    {
      "cell_type": "code",
      "source": [],
      "metadata": {
        "id": "RGMk9uwh5Ik8"
      },
      "execution_count": null,
      "outputs": []
    }
  ]
}