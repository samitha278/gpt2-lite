{
  "nbformat": 4,
  "nbformat_minor": 0,
  "metadata": {
    "colab": {
      "provenance": [],
      "gpuType": "T4",
      "authorship_tag": "ABX9TyNDr6MxkYlY5rvn34IFjBiE",
      "include_colab_link": true
    },
    "kernelspec": {
      "name": "python3",
      "display_name": "Python 3"
    },
    "language_info": {
      "name": "python"
    },
    "accelerator": "GPU"
  },
  "cells": [
    {
      "cell_type": "markdown",
      "metadata": {
        "id": "view-in-github",
        "colab_type": "text"
      },
      "source": [
        "<a href=\"https://colab.research.google.com/github/samitha278/gpt2-lite/blob/main/optimize3_gpt2.ipynb\" target=\"_parent\"><img src=\"https://colab.research.google.com/assets/colab-badge.svg\" alt=\"Open In Colab\"/></a>"
      ]
    },
    {
      "cell_type": "code",
      "execution_count": 1,
      "metadata": {
        "id": "_0ycgQlibUyD"
      },
      "outputs": [],
      "source": [
        "import torch\n",
        "import torch.nn as nn\n",
        "import torch.nn.functional as F\n",
        "\n",
        "import gdown\n",
        "import time\n",
        "import math\n",
        "import matplotlib.pyplot as plt\n",
        "\n",
        "import tiktoken\n",
        "\n",
        "from dataclasses import dataclass\n",
        "\n",
        "device = 'cuda' if torch.cuda.is_available() else 'cpu'"
      ]
    },
    {
      "cell_type": "code",
      "source": [
        "# Data file doenload\n",
        "\n",
        "file_id = \"1ia6z4itw7WJWpnoTohURX6Lm-AnZmVZz\"\n",
        "url = f\"https://drive.google.com/uc?id={file_id}\"\n",
        "\n",
        "output = \"input.txt\"\n",
        "gdown.download(url, output, quiet=False)"
      ],
      "metadata": {
        "id": "2fFwz3Kic-Rk",
        "colab": {
          "base_uri": "https://localhost:8080/",
          "height": 105
        },
        "outputId": "46303fd0-a6d3-4662-a8af-c86d2ae44b5b"
      },
      "execution_count": 2,
      "outputs": [
        {
          "output_type": "stream",
          "name": "stderr",
          "text": [
            "Downloading...\n",
            "From: https://drive.google.com/uc?id=1ia6z4itw7WJWpnoTohURX6Lm-AnZmVZz\n",
            "To: /content/input.txt\n",
            "100%|██████████| 1.12M/1.12M [00:00<00:00, 62.7MB/s]\n"
          ]
        },
        {
          "output_type": "execute_result",
          "data": {
            "text/plain": [
              "'input.txt'"
            ],
            "application/vnd.google.colaboratory.intrinsic+json": {
              "type": "string"
            }
          },
          "metadata": {},
          "execution_count": 2
        }
      ]
    },
    {
      "cell_type": "markdown",
      "source": [
        "# GPT-2 Model"
      ],
      "metadata": {
        "id": "5Qo3_bM9c-5j"
      }
    },
    {
      "cell_type": "code",
      "source": [
        "@dataclass\n",
        "class GPT2Config:\n",
        "    block_size : int = 1024\n",
        "    vocab_size : int = 50257\n",
        "    n_layer : int = 12\n",
        "    n_head : int = 12\n",
        "    n_embd : int = 768\n",
        "\n",
        "\n",
        "# ----------------------------------------------------------------------------------\n",
        "\n",
        "\n",
        "class GPT2(nn.Module):\n",
        "\n",
        "    def __init__(self,config):\n",
        "        super().__init__()\n",
        "\n",
        "        self.config = config\n",
        "\n",
        "        self.transformer = nn.ModuleDict(dict(\n",
        "            wte = nn.Embedding(config.vocab_size,config.n_embd),\n",
        "            wpe = nn.Embedding(config.block_size,config.n_embd),\n",
        "\n",
        "            h = nn.ModuleList([Block(config) for i in range(config.n_layer)]),\n",
        "\n",
        "            ln_f = nn.LayerNorm(config.n_embd),\n",
        "\n",
        "        ))\n",
        "\n",
        "        self.lm_head = nn.Linear(config.n_embd,config.vocab_size, bias=False)\n",
        "\n",
        "\n",
        "        #weight sharing\n",
        "        self.transformer.wte.weight = self.lm_head.weight\n",
        "        #Save ~38M parameters\n",
        "\n",
        "        self.apply(self._init_weights)\n",
        "\n",
        "\n",
        "\n",
        "    def _init_weights(self,module):\n",
        "\n",
        "        if isinstance(module,nn.Linear):\n",
        "            std = 0.02\n",
        "            if hasattr(module,'FLAG'):\n",
        "                std *= (2*self.config.n_layer) ** -0.5           #scaledown std\n",
        "            torch.nn.init.normal_(module.weight,mean=0.0,std=std)\n",
        "            if module.bias is not None:\n",
        "                torch.nn.init.zeros_(module.bias)\n",
        "        elif isinstance(module,nn.Embedding):\n",
        "            torch.nn.init.normal_(module.weight,mean=0.0,std=0.02)\n",
        "\n",
        "\n",
        "\n",
        "    def forward(self,x,targets= None):\n",
        "\n",
        "        B,T = x.shape\n",
        "        assert T<= self.config.block_size   # positional embd table max size = block_size\n",
        "        tx = self.transformer.wte(x)       #token embedding\n",
        "        px = self.transformer.wpe(torch.arange(0,T,self.config.block_size,device=device)) #positional embedding\n",
        "\n",
        "        x = tx+px     # add both\n",
        "\n",
        "        for block in self.transformer.h:\n",
        "          x = block(x)\n",
        "\n",
        "        x = self.transformer.ln_f(x)\n",
        "\n",
        "        logits = self.lm_head(x)\n",
        "\n",
        "        if targets is None:\n",
        "            return logits\n",
        "        else:\n",
        "            loss = F.cross_entropy(logits.view(B*T,-1) ,targets.view(-1))\n",
        "            return logits,loss\n",
        "\n",
        "\n",
        "\n",
        "    @classmethod\n",
        "    def from_pretrained(cls, model_type='gpt2'):\n",
        "        from transformers import GPT2LMHeadModel\n",
        "        assert model_type == 'gpt2'\n",
        "\n",
        "        config_args = dict(n_layer=12, n_head=12, n_embd=768, vocab_size=50257, block_size=1024)\n",
        "        config = GPT2Config(**config_args)\n",
        "        model = GPT2(config)\n",
        "\n",
        "        sd = model.state_dict()\n",
        "        sd_keys = [k for k in sd.keys() if not k.endswith('.attn.bias')]\n",
        "\n",
        "        model_hf = GPT2LMHeadModel.from_pretrained(model_type)\n",
        "        sd_hf = model_hf.state_dict()\n",
        "        sd_keys_hf = [k for k in sd_hf.keys() if not k.endswith(('.attn.masked_bias', '.attn.bias'))]\n",
        "\n",
        "        transposed = ['attn.c_attn.weight', 'attn.c_proj.weight', 'mlp.c_fc.weight', 'mlp.c_proj.weight']\n",
        "        assert len(sd_keys_hf) == len(sd_keys)\n",
        "\n",
        "        for k in sd_keys_hf:\n",
        "            if any(k.endswith(w) for w in transposed):\n",
        "                assert sd_hf[k].shape[::-1] == sd[k].shape\n",
        "                with torch.no_grad():\n",
        "                    sd[k].copy_(sd_hf[k].t())\n",
        "            else:\n",
        "                assert sd_hf[k].shape == sd[k].shape\n",
        "                with torch.no_grad():\n",
        "                    sd[k].copy_(sd_hf[k])\n",
        "\n",
        "        return model\n",
        "\n",
        "\n",
        "# ----------------------------------------------------------------------------------\n",
        "\n",
        "\n",
        "\n",
        "class Block(nn.Module):\n",
        "\n",
        "    def __init__(self,config):\n",
        "        super().__init__()\n",
        "        self.config = config\n",
        "\n",
        "        self.ln_1 = nn.LayerNorm(config.n_embd)\n",
        "        self.attn = SelfAttention(config)\n",
        "        self.ln_2 = nn.LayerNorm(config.n_embd)\n",
        "        self.mlp = MLP(config)\n",
        "\n",
        "\n",
        "    def forward(self,x):\n",
        "\n",
        "        x = self.attn(self.ln_1(x)) + x\n",
        "        x = self.mlp(self.ln_2(x)) + x\n",
        "\n",
        "        return x\n",
        "\n",
        "\n",
        "\n",
        "# ----------------------------------------------------------------------------------\n",
        "\n",
        "\n",
        "class MLP(nn.Module):\n",
        "\n",
        "    def __init__(self,config):\n",
        "        super().__init__()\n",
        "        self.config = config\n",
        "\n",
        "        self.c_fc = nn.Linear(config.n_embd,4*config.n_embd)\n",
        "        self.gelu = nn.GELU()\n",
        "        self.c_proj = nn.Linear(4*config.n_embd,config.n_embd)\n",
        "        self.c_proj.FLAG = 1\n",
        "\n",
        "\n",
        "    def forward(self,x):\n",
        "        x = self.c_fc(x)\n",
        "        x = self.gelu(x)\n",
        "        x = self.c_proj(x)\n",
        "\n",
        "        return x\n",
        "\n",
        "# ----------------------------------------------------------------------------------\n",
        "\n",
        "class SelfAttention(nn.Module):\n",
        "\n",
        "    def __init__(self, config):\n",
        "        super().__init__()\n",
        "\n",
        "        block_size = config.block_size\n",
        "\n",
        "        self.n_head = n_head = config.n_head\n",
        "        self.n_embd = n_embd = config.n_embd\n",
        "\n",
        "\n",
        "        assert n_embd % n_head == 0\n",
        "        self.head_size = n_embd // n_head\n",
        "\n",
        "        self.c_attn = nn.Linear(n_embd, 3 * n_embd)     # fan out : n_head * 3 * head_size\n",
        "\n",
        "        self.c_proj = nn.Linear(n_embd, n_embd)\n",
        "\n",
        "        self.c_proj.FLAG = 1\n",
        "\n",
        "        self.register_buffer(\"bias\", torch.tril(torch.ones(block_size, block_size)))\n",
        "\n",
        "\n",
        "\n",
        "    def forward(self, x):\n",
        "        B, T, C = x.size()  # C = n_embd = n_head * head_size\n",
        "\n",
        "        qkv = self.c_attn(x)    # B,T, 3*n_embd\n",
        "\n",
        "        q, k, v = qkv.split(self.n_embd, dim=2)    # each : B,T, n_head * head_size\n",
        "\n",
        "        k = k.view(B, T, self.n_head, self.head_size).transpose(1, 2)    # B, n_head, T, head_size\n",
        "        q = q.view(B, T, self.n_head, self.head_size).transpose(1, 2)    # \"\"\n",
        "        v = v.view(B, T, self.n_head, self.head_size).transpose(1, 2)    # \"\"\n",
        "\n",
        "        # att = (q @ k.transpose(-2, -1)) * (self.head_size**-0.5)         # B, n_head, T, T\n",
        "        # att = att.masked_fill(self.bias[:T,:T] == 0, float('-inf'))\n",
        "        # att = F.softmax(att, dim=-1)\n",
        "\n",
        "        # y = att @ v        # B, n_head, T, head_size\n",
        "\n",
        "\n",
        "        # Flash Attention\n",
        "        y = F.scaled_dot_product_attention(q,k,v,is_causal=True)\n",
        "\n",
        "\n",
        "        y = y.transpose(1, 2).contiguous().view(B, T, C)   # B, T , n_embd   (n_embd = n_head * head_size)\n",
        "\n",
        "        y = self.c_proj(y)\n",
        "        return y\n",
        "\n",
        "\n",
        "\n",
        "\n",
        "\n",
        "# ----------------------------------------------------------------------------------\n",
        "\n",
        "class DataLoader():\n",
        "\n",
        "  def __init__(self,B,T):\n",
        "\n",
        "    self.B = B\n",
        "    self.T = T\n",
        "\n",
        "    with open('input.txt', 'r') as f:\n",
        "      text = f.read()\n",
        "\n",
        "    enc = tiktoken.get_encoding('gpt2')\n",
        "    self.tokens = torch.tensor(enc.encode(text))\n",
        "\n",
        "    print(f'1 epoch size: {len(self.tokens//B*T)}')\n",
        "\n",
        "    self.count = 0\n",
        "\n",
        "\n",
        "\n",
        "  def get_batch(self):\n",
        "\n",
        "    B,T = self.B , self.T\n",
        "\n",
        "    temp = self.tokens[self.count:self.count+B*T+1]\n",
        "\n",
        "    x = temp[:-1].view(B,T)   #inputs\n",
        "    y = temp[1:].view(B,T)    #targets\n",
        "\n",
        "    self.count += B*T\n",
        "\n",
        "    # Reset\n",
        "    if (self.count+B*T+1) > len(self.tokens):\n",
        "      self.count = 0\n",
        "\n",
        "    return x,y\n"
      ],
      "metadata": {
        "id": "CkCfDtXmdkTn"
      },
      "execution_count": 3,
      "outputs": []
    },
    {
      "cell_type": "markdown",
      "source": [
        "# Train"
      ],
      "metadata": {
        "id": "9URVKdESduoh"
      }
    },
    {
      "cell_type": "code",
      "source": [
        "B = 4\n",
        "T = 1024\n",
        "\n",
        "\n",
        "torch.manual_seed(278)\n",
        "if torch.cuda.is_available():\n",
        "  torch.cuda.manual_seed(278)\n",
        "\n",
        "\n",
        "model = GPT2(GPT2Config(vocab_size = 50304))\n",
        "model = model.to(device)\n",
        "model = torch.compile(model)    # compile model into optimize form\n",
        "\n",
        "\n",
        "data = DataLoader(B,T)\n",
        "\n",
        "# _____________________________________________________________________________\n",
        "\n",
        "# Learning Rate\n",
        "max_lr = 6e-4\n",
        "min_lr = max_lr * 0.1\n",
        "\n",
        "max_iter = 1000\n",
        "warmup_steps = max_iter * 0.05\n",
        "\n",
        "def next_lr(i):\n",
        "  # warmup stage : linear\n",
        "  if i < warmup_steps :\n",
        "    return (max_lr/warmup_steps) * (i+1)\n",
        "\n",
        "  if i > max_iter:\n",
        "    return min_lr\n",
        "\n",
        "  # cosine dacay\n",
        "  decay_ratio = (i-warmup_steps) / (max_iter-warmup_steps)\n",
        "  assert 0<= decay_ratio <=1\n",
        "  c = 0.5 * (1.0 + math.cos(math.pi * decay_ratio))\n",
        "\n",
        "  return min_lr + c * (max_lr - min_lr)\n",
        "\n",
        "\n",
        "# _____________________________________________________________________________\n",
        "\n",
        "\n",
        "losses = torch.zeros((max_iter,))\n",
        "norms = torch.zeros((max_iter,))\n",
        "lrs = torch.zeros((max_iter,))\n",
        "\n",
        "\n",
        "optimizer = torch.optim.AdamW(model.parameters(),lr = 6e-4,betas = (0.9,0.95),eps = 1e-8)\n",
        "#Gradient Scalar\n",
        "scaler = torch.amp.GradScaler(device)     # Prevents gradient underflow when using FP16\n",
        "\n",
        "#optimize\n",
        "for i in range(max_iter):\n",
        "\n",
        "  t0 = time.time()   # time start\n",
        "\n",
        "  xb , yb = data.get_batch()\n",
        "  xb , yb = xb.to(device),yb.to(device)\n",
        "\n",
        "  #AMP\n",
        "  with torch.autocast(device_type=device, dtype=torch.float16):   # FP16\n",
        "    logits , loss = model(xb,yb)\n",
        "\n",
        "  optimizer.zero_grad()\n",
        "\n",
        "  scaler.scale(loss).backward()     # multiplies loss by a scale factor\n",
        "\n",
        "  norm = nn.utils.clip_grad_norm_(model.parameters(),1.0)    # inplace gradient clipping\n",
        "\n",
        "  # find and set learning rate\n",
        "  lr = next_lr(i)\n",
        "\n",
        "  # update optimizer this new lr\n",
        "  for param_group in optimizer.param_groups:\n",
        "    param_group['lr'] = lr\n",
        "\n",
        "  scaler.step(optimizer)            # unscales gradients then call optimizer step\n",
        "  scaler.update()                   # adjusts the scale factor automatically each iteration\n",
        "\n",
        "\n",
        "  torch.cuda.synchronize() if torch.cuda.is_available() else None\n",
        "\n",
        "  t1 = time.time()   # time end\n",
        "  t = (t1 - t0)*1000 # ms\n",
        "\n",
        "  losses[i] = loss.item()\n",
        "  norms[i] = norm.item()\n",
        "  lrs[i] = lr\n",
        "\n",
        "  if i%100==0 : print(f'{i}/{max_iter}  {loss.item():.4f}  {t:.4f} ms  norm:{norm.item():.4f}  lr:{lr:.4e}')"
      ],
      "metadata": {
        "id": "nZmWNI7ZdtwA",
        "colab": {
          "base_uri": "https://localhost:8080/"
        },
        "outputId": "2e9022bc-c3e4-4542-96fe-cda2ee5481a7"
      },
      "execution_count": 4,
      "outputs": [
        {
          "output_type": "stream",
          "name": "stdout",
          "text": [
            "1 epoch size: 338025\n"
          ]
        },
        {
          "output_type": "stream",
          "name": "stderr",
          "text": [
            "W0926 05:06:59.726000 1952 torch/_inductor/utils.py:1436] [0/0] Not enough SMs to use max_autotune_gemm mode\n"
          ]
        },
        {
          "output_type": "stream",
          "name": "stdout",
          "text": [
            "0/1000  11.0500  31587.0152 ms  norm:3083475.2500  lr:1.1999999999999999e-05\n",
            "100/1000  6.3045  273.0086 ms  norm:127163.6641  lr:0.000596317551918735\n",
            "200/1000  5.5345  272.9156 ms  norm:159696.4688  lr:0.000567457912825752\n",
            "300/1000  5.3184  296.1235 ms  norm:166981.0938  lr:0.00051286602433895\n",
            "400/1000  5.0724  283.6609 ms  norm:181526.6875  lr:0.0004384577646563017\n",
            "500/1000  4.7149  280.0109 ms  norm:159570.0469  lr:0.0003522964232775297\n",
            "600/1000  4.9071  283.3986 ms  norm:147432.3750  lr:0.0002637189184719842\n",
            "700/1000  5.0193  284.6563 ms  norm:164736.5156  lr:0.00018232399730694476\n",
            "800/1000  4.6939  285.3720 ms  norm:204243.5781  lr:0.00011693206246297374\n",
            "900/1000  4.9968  288.0721 ms  norm:226479.4844  lr:7.462934474082864e-05\n"
          ]
        }
      ]
    },
    {
      "cell_type": "markdown",
      "source": [
        "### Losses"
      ],
      "metadata": {
        "id": "zlphwojWTm5b"
      }
    },
    {
      "cell_type": "code",
      "source": [
        "plt.figure(figsize=(6,4))\n",
        "plt.plot(losses)\n",
        "plt.show()"
      ],
      "metadata": {
        "colab": {
          "base_uri": "https://localhost:8080/",
          "height": 368
        },
        "id": "Ppq-P2ytTfpJ",
        "outputId": "d97d4790-38bc-41ef-8230-e562c14da504"
      },
      "execution_count": 5,
      "outputs": [
        {
          "output_type": "display_data",
          "data": {
            "text/plain": [
              "<Figure size 600x400 with 1 Axes>"
            ],
            "image/png": "[encoded data removed]"
          },
          "metadata": {}
        }
      ]
    },
    {
      "cell_type": "markdown",
      "source": [
        "### Norms"
      ],
      "metadata": {
        "id": "IOGncMPUTvo3"
      }
    },
    {
      "cell_type": "code",
      "source": [
        "plt.figure(figsize=(6,4))\n",
        "plt.plot(norms)\n",
        "plt.show()"
      ],
      "metadata": {
        "colab": {
          "base_uri": "https://localhost:8080/",
          "height": 383
        },
        "id": "O33_jek4Ti1Z",
        "outputId": "03a8f57d-b10d-49f9-90a9-381b8572e521"
      },
      "execution_count": 6,
      "outputs": [
        {
          "output_type": "display_data",
          "data": {
            "text/plain": [
              "<Figure size 600x400 with 1 Axes>"
            ],
            "image/png": "[encoded data removed]"
          },
          "metadata": {}
        }
      ]
    },
    {
      "cell_type": "markdown",
      "source": [
        "### Learning Rates"
      ],
      "metadata": {
        "id": "z801ThwtTzZO"
      }
    },
    {
      "cell_type": "code",
      "source": [
        "plt.figure(figsize=(6,4))\n",
        "plt.plot(lrs)\n",
        "plt.show()"
      ],
      "metadata": {
        "colab": {
          "base_uri": "https://localhost:8080/",
          "height": 368
        },
        "id": "sdqhgbYUTlfa",
        "outputId": "6dd15fe2-2f07-4da2-d0f2-fdd14f7f6a64"
      },
      "execution_count": 7,
      "outputs": [
        {
          "output_type": "display_data",
          "data": {
            "text/plain": [
              "<Figure size 600x400 with 1 Axes>"
            ],
            "image/png": "[encoded data removed]"
          },
          "metadata": {}
        }
      ]
    }
  ]
}